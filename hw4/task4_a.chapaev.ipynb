{
 "cells": [
  {
   "cell_type": "markdown",
   "source": [
    "# Start session"
   ],
   "metadata": {
    "collapsed": false
   },
   "id": "9d6d8e419bd42129"
  },
  {
   "cell_type": "code",
   "execution_count": null,
   "outputs": [],
   "source": [
    "import os\n",
    "import pyspark\n",
    "from pyspark import SparkContext, SparkConf\n",
    "from pyspark.sql import SparkSession\n",
    "\n",
    "os.environ[\"HADOOP_CONF_DIR\"] = \"/etc/hadoop/conf\"\n",
    "# os.environ[\"SPARK_HOME\"]=\"/usr/hdp/current/spark2-client\"\n",
    "# os.environ[\"JAVA_HOME\"]=\"/usr/java/jdk1.8.0_191/jre\"\n",
    "\n",
    "spark = pyspark.sql.SparkSession.builder \\\n",
    "    .master(\"yarn\") \\\n",
    "    .appName(\"task4_a.chapaev\") \\\n",
    "    .config(\"spark.executor.instances\", \"1\") \\\n",
    "    .config(\"spark.executor.memory\", \"1G\") \\\n",
    "    .config(\"spark.executor.cores\", \"2\") \\\n",
    "    .config(\"spark.dynamicAllocation.enabled\", \"false\") \\\n",
    "    .config(\"spark.dynamicAllocation.executorIdleTimeout\", \"300s\") \\\n",
    "    .config(\"spark.dynamicAllocation.maxExecutors\", \"1000\") \\\n",
    "    .config(\"spark.driver.memory\", \"1G\") \\\n",
    "    .config(\"spark.driver.maxResultSize\", \"1G\") \\\n",
    "    .config(\"spark.serializer\", \"org.apache.spark.serializer.KryoSerializer\") \\\n",
    "    .config(\"spark.kryoserializer.buffer.max\", \"1024m\") \\\n",
    "    .getOrCreate()\n",
    "\n",
    "spark_context = spark.sparkContext"
   ],
   "metadata": {
    "collapsed": false
   },
   "id": "initial_id"
  },
  {
   "cell_type": "code",
   "execution_count": null,
   "outputs": [],
   "source": [
    "print(\"\"\"\n",
    "Urls:\n",
    "Yarn       http://91.219.226.252:8088/cluster/scheduler\n",
    "Spark      http://91.219.226.252:8088/proxy/{app_id}/stages/\n",
    "App info   http://91.219.226.252:8088/cluster/app/{app_id}/\n",
    "\"\"\".format(app_id=spark_context.applicationId))"
   ],
   "metadata": {
    "collapsed": false
   },
   "id": "a149bdd6997152fc"
  },
  {
   "cell_type": "code",
   "execution_count": null,
   "outputs": [],
   "source": [
    "from pyspark.sql.types import *\n",
    "import pyspark.sql.functions as sf"
   ],
   "metadata": {
    "collapsed": false
   },
   "id": "f0fc39bdffb97a3"
  },
  {
   "cell_type": "markdown",
   "source": [
    "## Read source data from rosstat and ok directory"
   ],
   "metadata": {
    "collapsed": false
   },
   "id": "d2588a4949750be8"
  },
  {
   "cell_type": "markdown",
   "source": [
    "### rosstat directory"
   ],
   "metadata": {
    "collapsed": false
   },
   "id": "2b99ef14a34c61ef"
  },
  {
   "cell_type": "code",
   "execution_count": null,
   "outputs": [],
   "source": [
    "city_path = \"/user/a.chapaev/data/data3/rosstat/city.csv\"\n",
    "product_path = \"/user/a.chapaev/data/data3/rosstat/product.csv\"\n",
    "price_path = \"/user/a.chapaev/data/data3/rosstat/price\"\n",
    "products_for_stat_path = \"/user/a.chapaev/data/data3/rosstat/products_for_stat.csv\"\n",
    "\n",
    "price_stat_path = \"/user/a.chapaev/task3/price_stat\"  # path for result of 1st task"
   ],
   "metadata": {
    "collapsed": false
   },
   "id": "877e8de5caac6309"
  },
  {
   "cell_type": "code",
   "execution_count": null,
   "outputs": [],
   "source": [
    "core_demography_path = \"/user/a.chapaev/data/data3/ok/coreDemography\"\n",
    "rs_city_path = \"/user/a.chapaev/data/data3/ok/geography/rs_city.csv\"\n",
    "\n",
    "ok_dem_path = \"/user/a.chapaev/task3/ok_dem\"  # path for result of 2nd task"
   ],
   "metadata": {
    "collapsed": false
   },
   "id": "87d140df38a1154c"
  },
  {
   "cell_type": "code",
   "execution_count": null,
   "outputs": [],
   "source": [
    "product_stat_path = \"/user/a.chapaev/task3/product_stat\"  # path for result of 3rd task"
   ],
   "metadata": {
    "collapsed": false
   },
   "id": "421673fa0100cc01"
  },
  {
   "cell_type": "code",
   "execution_count": null,
   "outputs": [],
   "source": [
    "sourceCityDF = (spark.read\n",
    "                .option(\"header\", \"false\")\n",
    "                .option(\"sep\", \";\")\n",
    "                .csv(city_path)\n",
    "                )"
   ],
   "metadata": {
    "collapsed": false
   },
   "id": "5ac89c9f94f82562"
  },
  {
   "cell_type": "code",
   "execution_count": null,
   "outputs": [],
   "source": [
    "sourceCityDF.printSchema()\n",
    "sourceCityDF.show(n=5)"
   ],
   "metadata": {
    "collapsed": false
   },
   "id": "8142424d50877357"
  },
  {
   "cell_type": "code",
   "execution_count": null,
   "outputs": [],
   "source": [
    "sourceProductDF = (spark.read\n",
    "                   .option(\"header\", \"false\")\n",
    "                   .option(\"sep\", \";\")\n",
    "                   .csv(product_path)\n",
    "                   )"
   ],
   "metadata": {
    "collapsed": false
   },
   "id": "e5de3a11d59a0d09"
  },
  {
   "cell_type": "code",
   "execution_count": null,
   "outputs": [],
   "source": [
    "sourceProductDF.printSchema()\n",
    "sourceProductDF.show(n=5)"
   ],
   "metadata": {
    "collapsed": false
   },
   "id": "816605f5e5f2c7a8"
  },
  {
   "cell_type": "code",
   "execution_count": null,
   "outputs": [],
   "source": [
    "sourcePriceDF = (spark.read\n",
    "                 .option(\"header\", \"false\")\n",
    "                 .option(\"sep\", \";\")\n",
    "                 .csv(price_path)\n",
    "                 )"
   ],
   "metadata": {
    "collapsed": false
   },
   "id": "e1af4b8ab255fe69"
  },
  {
   "cell_type": "code",
   "execution_count": null,
   "outputs": [],
   "source": [
    "sourcePriceDF.printSchema()\n",
    "sourcePriceDF.show(n=5)"
   ],
   "metadata": {
    "collapsed": false
   },
   "id": "9d4fdd03c4d9a9fc"
  },
  {
   "cell_type": "code",
   "execution_count": null,
   "outputs": [],
   "source": [
    "sourceProductsForStatDF = (spark.read\n",
    "                           .option(\"header\", \"false\")\n",
    "                           .option(\"sep\", \";\")\n",
    "                           .csv(products_for_stat_path)\n",
    "                           )"
   ],
   "metadata": {
    "collapsed": false
   },
   "id": "d07aebf6f5e3092d"
  },
  {
   "cell_type": "code",
   "execution_count": null,
   "outputs": [],
   "source": [
    "sourceProductsForStatDF.printSchema()\n",
    "sourceProductsForStatDF.show(n=5)"
   ],
   "metadata": {
    "collapsed": false
   },
   "id": "a4c7316bfdc119f0"
  },
  {
   "cell_type": "markdown",
   "source": [
    "### ok directory"
   ],
   "metadata": {
    "collapsed": false
   },
   "id": "cd0257ba7b2ce169"
  },
  {
   "cell_type": "code",
   "execution_count": null,
   "outputs": [],
   "source": [
    "sourceCoreDemographyDF = (spark.read\n",
    "                          .option(\"header\", \"false\")\n",
    "                          .option(\"sep\", \"\\t\")\n",
    "                          .csv(core_demography_path)\n",
    "                          )"
   ],
   "metadata": {
    "collapsed": false
   },
   "id": "f678b89945f526cc"
  },
  {
   "cell_type": "code",
   "execution_count": null,
   "outputs": [],
   "source": [
    "sourceCoreDemographyDF.printSchema()\n",
    "sourceCoreDemographyDF.show(n=5)"
   ],
   "metadata": {
    "collapsed": false
   },
   "id": "3be2df1ddf22b4f5"
  },
  {
   "cell_type": "code",
   "execution_count": null,
   "outputs": [],
   "source": [
    "sourceCityIdMatchingDF = (spark.read\n",
    "                          .option(\"header\", \"false\")\n",
    "                          .option(\"sep\", \"\\t\")\n",
    "                          .csv(rs_city_path)\n",
    "                          )"
   ],
   "metadata": {
    "collapsed": false
   },
   "id": "995823c385b30890"
  },
  {
   "cell_type": "code",
   "execution_count": null,
   "outputs": [],
   "source": [
    "sourceCityIdMatchingDF.printSchema()\n",
    "sourceCityIdMatchingDF.show(n=5)"
   ],
   "metadata": {
    "collapsed": false
   },
   "id": "5956104ea9a22489"
  },
  {
   "cell_type": "markdown",
   "source": [
    "## Convert data according to the types"
   ],
   "metadata": {
    "collapsed": false
   },
   "id": "3042839569a2c46"
  },
  {
   "cell_type": "markdown",
   "source": [
    "### rosstat directory"
   ],
   "metadata": {
    "collapsed": false
   },
   "id": "eae9d79916b815ef"
  },
  {
   "cell_type": "code",
   "execution_count": null,
   "outputs": [],
   "source": [
    "cityDF = (\n",
    "    sourceCityDF\n",
    "    .select(\n",
    "        sf.col(\"_c0\").alias(\"city\"),\n",
    "        sf.col(\"_c1\").cast(IntegerType()).alias(\"city_id\")\n",
    "    )\n",
    ")\n",
    "\n",
    "productDF = (\n",
    "    sourceProductDF\n",
    "    .select(\n",
    "        sf.col(\"_c0\").alias(\"product\"),\n",
    "        sf.col(\"_c1\").cast(IntegerType()).alias(\"product_id\")\n",
    "    )\n",
    ")"
   ],
   "metadata": {
    "collapsed": false
   },
   "id": "2e5e35c5f6543b6f"
  },
  {
   "cell_type": "code",
   "execution_count": null,
   "outputs": [],
   "source": [
    "priceDF = (\n",
    "    sourcePriceDF\n",
    "    \n",
    "    # firstly filter bcs sourcePriceDF has rows with empty \"_c2\" (\"price\") column\n",
    "    .where(sf.col(\"_c2\").isNotNull())\n",
    "    \n",
    "    .select(\n",
    "        sf.col(\"_c0\").cast(IntegerType()).alias(\"city_id\"),\n",
    "        sf.col(\"_c1\").cast(IntegerType()).alias(\"product_id\"),\n",
    "        # .cast(DoubleType() requires '.' instead of ','\n",
    "        sf.regexp_replace(sf.col(\"_c2\"), \",\", \".\").cast(DoubleType()).alias(\"price\")\n",
    "    )\n",
    ")"
   ],
   "metadata": {
    "collapsed": false
   },
   "id": "91ee337bbb53ee6f"
  },
  {
   "cell_type": "code",
   "execution_count": null,
   "outputs": [],
   "source": [
    "print(f\"Deleted {sourcePriceDF.count() - priceDF.count()} rows\")"
   ],
   "metadata": {
    "collapsed": false
   },
   "id": "2ba1d21fcbac7502"
  },
  {
   "cell_type": "code",
   "execution_count": null,
   "outputs": [],
   "source": [
    "productsForStatDF = (\n",
    "    sourceProductsForStatDF\n",
    "    .select(\n",
    "        sf.col(\"_c0\").cast(IntegerType()).alias(\"stat_product_id\"),\n",
    "    )\n",
    ")"
   ],
   "metadata": {
    "collapsed": false
   },
   "id": "180a34b6cf9fbd33"
  },
  {
   "cell_type": "code",
   "execution_count": null,
   "outputs": [],
   "source": [
    "cityDF.printSchema()\n",
    "cityDF.show(n=5)\n",
    "\n",
    "productDF.printSchema()\n",
    "productDF.show(n=5)\n",
    "\n",
    "priceDF.printSchema()\n",
    "priceDF.show(n=5)\n",
    "\n",
    "productsForStatDF.printSchema()\n",
    "productsForStatDF.show(n=5)"
   ],
   "metadata": {
    "collapsed": false
   },
   "id": "48653cddef6e1d71"
  },
  {
   "cell_type": "markdown",
   "source": [
    "### ok directory"
   ],
   "metadata": {
    "collapsed": false
   },
   "id": "a9efc3fc1f5d5d64"
  },
  {
   "cell_type": "code",
   "execution_count": null,
   "outputs": [],
   "source": [
    "coreDemographyDF = (\n",
    "    sourceCoreDemographyDF\n",
    "    .select(\n",
    "        # delete some columns with non-required data (login_region, create_data, etc)\n",
    "        sf.col(\"_c0\").cast(IntegerType()).alias(\"user_id\"),\n",
    "        sf.col(\"_c2\").cast(LongType()).alias(\"birth_date\"),\n",
    "        sf.col(\"_c3\").cast(ByteType()).alias(\"gender\"),\n",
    "        sf.col(\"_c5\").cast(IntegerType()).alias(\"city_id\"),\n",
    "    )\n",
    ")\n",
    "\n",
    "cityIdMatchingDF = (\n",
    "    sourceCityIdMatchingDF\n",
    "    .select(\n",
    "        sf.col(\"_c0\").cast(IntegerType()).alias(\"ok_city_id\"),\n",
    "        sf.col(\"_c1\").cast(IntegerType()).alias(\"rs_city_id\"),\n",
    "    )\n",
    ")\n"
   ],
   "metadata": {
    "collapsed": false
   },
   "id": "46e0fb0ab3498dfa"
  },
  {
   "cell_type": "code",
   "execution_count": null,
   "outputs": [],
   "source": [
    "coreDemographyDF.printSchema()\n",
    "coreDemographyDF.show(n=5)\n",
    "\n",
    "cityIdMatchingDF.printSchema()\n",
    "cityIdMatchingDF.show(n=5)"
   ],
   "metadata": {
    "collapsed": false
   },
   "id": "c73336cc912a4714"
  },
  {
   "cell_type": "code",
   "execution_count": null,
   "outputs": [],
   "source": [
    "# save DF of prices with selected product_ids, bcs we'll need it several times\n",
    "pricesForStatDF = (\n",
    "    priceDF\n",
    "    .join(productsForStatDF, priceDF.product_id == productsForStatDF.stat_product_id, how='inner')\n",
    ")"
   ],
   "metadata": {
    "collapsed": false
   },
   "id": "cdbad084b5fce248"
  },
  {
   "cell_type": "code",
   "execution_count": null,
   "outputs": [],
   "source": [
    "print(f\"Previos count of rows in price DF: {priceDF.count()}, current: {pricesForStatDF.count()}\")"
   ],
   "metadata": {
    "collapsed": false
   },
   "id": "2cbab8c7b296f5b0"
  },
  {
   "cell_type": "markdown",
   "source": [
    "# Complete Task 1 (price_stat)\n",
    "\n",
    "Для предложенных товаров необходимо вычислить минимальную, максимальную и среднюю цену по всем городам (будет получен датасет price_stat), результат сохранить в hdfs."
   ],
   "metadata": {
    "collapsed": false
   },
   "id": "e3405504fb2f749a"
  },
  {
   "cell_type": "code",
   "execution_count": null,
   "outputs": [],
   "source": [
    "priceStatDF = (\n",
    "    pricesForStatDF\n",
    "    .groupBy(sf.col(\"product_id\"))\n",
    "    .agg(\n",
    "        sf.round(sf.min(\"price\"), 2).alias(\"min_price\"),\n",
    "        sf.round(sf.max(\"price\"), 2).alias(\"max_price\"),\n",
    "        sf.round(sf.mean(\"price\"), 2).alias(\"price_avg\")\n",
    "    )\n",
    ")"
   ],
   "metadata": {
    "collapsed": false
   },
   "id": "6f5487c34aa4334a"
  },
  {
   "cell_type": "code",
   "execution_count": null,
   "outputs": [],
   "source": [
    "priceStatDF.show(n=10)"
   ],
   "metadata": {
    "collapsed": false
   },
   "id": "ff28a8c04a44280"
  },
  {
   "cell_type": "code",
   "execution_count": null,
   "outputs": [],
   "source": [
    "(\n",
    "    priceStatDF\n",
    "    .repartition(1)\n",
    "    .sortWithinPartitions(sf.col(\"price_avg\").desc())\n",
    "    .write\n",
    "    .mode(\"overwrite\")\n",
    "    .option(\"header\", \"false\")\n",
    "    .option(\"sep\", \";\")\n",
    "    .csv(price_stat_path)\n",
    ")"
   ],
   "metadata": {
    "collapsed": false
   },
   "id": "649e3c727e4cbb44"
  },
  {
   "cell_type": "markdown",
   "source": [
    "# Complete Task 2 (ok_dem)\n",
    "\n",
    "Задание: из набора данных ОК следует для всех пользователей из городов, цена на товары в которых выше средней, собрать статистику, которая будет содержать: название города, число пользователей из этого города, средний возраст пользователей, число пользователей мужчин, число пользователей женщин, доля мужчин, доля женщин (датасет ok_dem)."
   ],
   "metadata": {
    "collapsed": false
   },
   "id": "3b1b5d5120bfe411"
  },
  {
   "cell_type": "markdown",
   "source": [
    "#### firstly find cities with prices bigger than mean price\n"
   ],
   "metadata": {
    "collapsed": false
   },
   "id": "bbb1ca506d8346fe"
  },
  {
   "cell_type": "code",
   "execution_count": null,
   "outputs": [],
   "source": [
    "cityForStatDF = (\n",
    "    pricesForStatDF\n",
    "    \n",
    "    # join with mean price for following comparison\n",
    "    .join(priceStatDF, pricesForStatDF.product_id == priceStatDF.product_id, how='inner') \n",
    "    .select(\n",
    "        sf.col(\"city_id\"),\n",
    "        sf.col(\"price_avg\"),\n",
    "        sf.col(\"price\")\n",
    "    )\n",
    "\n",
    "    # do comparison, find products with price bigger than mean price\n",
    "    .where((sf.col(\"price_avg\") < sf.col(\"price\")))\n",
    "\n",
    "    # save only cities without information about products\n",
    "    .select(\n",
    "        sf.col(\"city_id\") \n",
    "    )\n",
    "    .dropDuplicates()\n",
    "    \n",
    "    # obtain cities' ids in ok's datasets\n",
    "    .join(cityIdMatchingDF, pricesForStatDF.city_id == cityIdMatchingDF.rs_city_id, how='inner')  \n",
    "    .select(\n",
    "        sf.col(\"ok_city_id\"),\n",
    "        sf.col(\"rs_city_id\")\n",
    "    )\n",
    ")"
   ],
   "metadata": {
    "collapsed": false
   },
   "id": "a065ca84f9fd5ee5"
  },
  {
   "cell_type": "code",
   "execution_count": null,
   "outputs": [],
   "source": [
    "cityForStatDF.show(n=5)"
   ],
   "metadata": {
    "collapsed": false
   },
   "id": "9408f1cbdd6146ff"
  },
  {
   "cell_type": "code",
   "execution_count": null,
   "outputs": [],
   "source": [
    "cityForStatDF.count()"
   ],
   "metadata": {
    "collapsed": false
   },
   "id": "887b799c1738f37f"
  },
  {
   "cell_type": "markdown",
   "source": [
    "#### find users from necessary cities and calculate their age"
   ],
   "metadata": {
    "collapsed": false
   },
   "id": "44f90268199a5284"
  },
  {
   "cell_type": "code",
   "execution_count": null,
   "outputs": [],
   "source": [
    "coreDemographyForStatDF = (\n",
    "    coreDemographyDF\n",
    "    .join(cityForStatDF, coreDemographyDF.city_id == cityForStatDF.ok_city_id)\n",
    "    .withColumn(\"age\", sf.year(sf.from_unixtime((19417 - sf.col(\"birth_date\")) * 86400)) - 1970)\n",
    "    .select(\n",
    "        sf.col(\"user_id\"),\n",
    "        sf.col(\"age\"),\n",
    "        sf.col(\"gender\"),\n",
    "        sf.col(\"rs_city_id\")\n",
    "    )\n",
    ")"
   ],
   "metadata": {
    "collapsed": false
   },
   "id": "50acaa86a0b97cb6"
  },
  {
   "cell_type": "code",
   "execution_count": null,
   "outputs": [],
   "source": [
    "coreDemographyForStatDF.show(n=5)"
   ],
   "metadata": {
    "collapsed": false
   },
   "id": "c87149a3541be7fa"
  },
  {
   "cell_type": "markdown",
   "source": [
    "#### calculate all necessary info "
   ],
   "metadata": {
    "collapsed": false
   },
   "id": "6b111ec25ed82ae0"
  },
  {
   "cell_type": "code",
   "execution_count": null,
   "outputs": [],
   "source": [
    "okDemDF = (\n",
    "    coreDemographyForStatDF\n",
    "    .groupBy(\"rs_city_id\")\n",
    "\n",
    "    .agg(\n",
    "        sf.sum(sf.when(coreDemographyForStatDF[\"gender\"] == 1, 1).otherwise(0)).alias(\"men_cnt\"),\n",
    "        sf.sum(sf.when(coreDemographyForStatDF[\"gender\"] == 2, 1).otherwise(0)).alias(\"women_cnt\"),\n",
    "        sf.count(\"user_id\").alias(\"user_cnt\"),\n",
    "        sf.round(sf.mean(\"age\").alias(\"age_avg\"), 2).alias(\"age_avg\")\n",
    "    )\n",
    "\n",
    "    # add info about gender shares\n",
    "    .withColumn(\"women_share\", sf.round(sf.col(\"women_cnt\").cast(DoubleType()) / sf.col(\"user_cnt\"), 2))\n",
    "    .withColumn(\"men_share\", sf.round(sf.col(\"men_cnt\").cast(DoubleType()) / sf.col(\"user_cnt\"), 2))\n",
    "\n",
    "    # add cities' name\n",
    "    .join(cityDF, coreDemographyForStatDF.rs_city_id == cityDF.city_id, how='inner')\n",
    "    .select(\n",
    "        sf.col(\"city\").alias(\"city_name\"),\n",
    "        sf.col(\"user_cnt\"),\n",
    "        sf.col(\"women_cnt\"),\n",
    "        sf.col(\"men_cnt\"),\n",
    "        sf.col(\"women_share\"),\n",
    "        sf.col(\"men_share\"),\n",
    "        sf.col(\"age_avg\")\n",
    "    )\n",
    ")"
   ],
   "metadata": {
    "collapsed": false
   },
   "id": "c6f6ab3dacbba19f"
  },
  {
   "cell_type": "code",
   "execution_count": null,
   "outputs": [],
   "source": [
    "okDemDF.show(n=10) "
   ],
   "metadata": {
    "collapsed": false
   },
   "id": "dbe6c966d0cc6fec"
  },
  {
   "cell_type": "code",
   "execution_count": null,
   "outputs": [],
   "source": [
    "(\n",
    "    okDemDF\n",
    "    .repartition(1)\n",
    "    .sortWithinPartitions(sf.col(\"city_name\"))\n",
    "    .write\n",
    "    .mode(\"overwrite\")\n",
    "    .option(\"header\", \"false\")\n",
    "    .option(\"sep\", \";\")\n",
    "    .csv(ok_dem_path)\n",
    ")"
   ],
   "metadata": {
    "collapsed": false
   },
   "id": "8009a320e9df376b"
  },
  {
   "cell_type": "markdown",
   "source": [
    "# Complete Task 3 (product_stat)\n",
    "\n",
    "Из полученного датасета (ok_dem) нужно будет выбрать города с максимальным и минимальным средним возрастом, максимальной долей мужчин и максимальной долей женщин. Для этих городов в данных Росстат нужно будет выбрать самый дешевый и самый дорогой товары, разницу в цене между ними (датасет product_stat)"
   ],
   "metadata": {
    "collapsed": false
   },
   "id": "d3820136144366cb"
  },
  {
   "cell_type": "markdown",
   "source": [
    "#### find cities with max, min age_avg, max men and women shares"
   ],
   "metadata": {
    "collapsed": false
   },
   "id": "815d4fa49d1ac7fa"
  },
  {
   "cell_type": "code",
   "execution_count": null,
   "outputs": [],
   "source": [
    "# add city_id to result of 2nd task, delete non-required data (user_cnt, women_cnt, men_cnt)\n",
    "\n",
    "largeOkDemDF = (\n",
    "    okDemDF\n",
    "    .join(cityDF, okDemDF.city_name == cityDF.city, how='inner')\n",
    "    .select(\n",
    "        sf.col(\"city\").alias(\"city_name\"),\n",
    "        sf.col(\"city_id\"),\n",
    "        sf.col(\"age_avg\"),\n",
    "        sf.col(\"women_share\"),\n",
    "        sf.col(\"men_share\")\n",
    "    )\n",
    ")"
   ],
   "metadata": {
    "collapsed": false
   },
   "id": "29413d786c9d9337"
  },
  {
   "cell_type": "code",
   "execution_count": null,
   "outputs": [],
   "source": [
    "largeOkDemDF.show(n=5)"
   ],
   "metadata": {
    "collapsed": false
   },
   "id": "597b6982e4439482"
  },
  {
   "cell_type": "code",
   "execution_count": null,
   "outputs": [],
   "source": [
    "okDemStatRow = (\n",
    "    largeOkDemDF\n",
    "    .select(\n",
    "        sf.max(largeOkDemDF.age_avg).alias(\"max_age_avg\"),\n",
    "        sf.min(largeOkDemDF.age_avg).alias(\"min_age_avg\"),\n",
    "        sf.max(largeOkDemDF.men_share).alias(\"max_men_share\"),\n",
    "        sf.max(largeOkDemDF.women_share).alias(\"max_women_share\")\n",
    "    )\n",
    "    .first()\n",
    ")\n",
    "\n",
    "okDemStatRow"
   ],
   "metadata": {
    "collapsed": false
   },
   "id": "1d00720a720a4d5"
  },
  {
   "cell_type": "code",
   "execution_count": null,
   "outputs": [],
   "source": [
    "# for each criterion find city_name and city_id for following min|max price products search\n",
    "\n",
    "max_age_avg_city = (\n",
    "    largeOkDemDF\n",
    "    .where(largeOkDemDF.age_avg == okDemStatRow.max_age_avg)\n",
    "    .select(\n",
    "        sf.col(\"city_name\"),\n",
    "        sf.col(\"city_id\"),\n",
    "    )\n",
    "    .first()\n",
    ")\n",
    "\n",
    "min_age_avg_city = (\n",
    "    largeOkDemDF\n",
    "    .where(largeOkDemDF.age_avg == okDemStatRow.min_age_avg)\n",
    "    .select(\n",
    "        sf.col(\"city_name\"),\n",
    "        sf.col(\"city_id\"),\n",
    "    )\n",
    "    .first()\n",
    ")\n",
    "\n",
    "max_men_share_city = (\n",
    "    largeOkDemDF\n",
    "    .where(largeOkDemDF.men_share == okDemStatRow.max_men_share)\n",
    "    .select(\n",
    "        sf.col(\"city_name\"),\n",
    "        sf.col(\"city_id\"),\n",
    "    )\n",
    "    .first()\n",
    ")\n",
    "\n",
    "max_women_share_city = (\n",
    "    largeOkDemDF\n",
    "    .where(largeOkDemDF.women_share == okDemStatRow.max_women_share)\n",
    "    .select(\n",
    "        sf.col(\"city_name\"),\n",
    "        sf.col(\"city_id\"),\n",
    "    )\n",
    "    .first()\n",
    ")\n",
    "\n",
    "print(f\"City with max average age ({okDemStatRow.max_age_avg}) is {max_age_avg_city.city_name}\")\n",
    "print(f\"City with min average age ({okDemStatRow.min_age_avg}) is {min_age_avg_city.city_name}\")\n",
    "print(f\"City with max women share ({okDemStatRow.max_women_share}) is {max_women_share_city.city_name}\")\n",
    "print(f\"City with max men share ({okDemStatRow.max_men_share}) is {max_men_share_city.city_name}\")"
   ],
   "metadata": {
    "collapsed": false
   },
   "id": "e03bee92fa07d89a"
  },
  {
   "cell_type": "markdown",
   "source": [
    "#### create DF with selected cities"
   ],
   "metadata": {
    "collapsed": false
   },
   "id": "c61597087a15b97d"
  },
  {
   "cell_type": "code",
   "execution_count": null,
   "outputs": [],
   "source": [
    "pickedCityDFSchema = StructType([\n",
    "    StructField(\"city_name\", StringType()),\n",
    "    StructField(\"city_id\", IntegerType())\n",
    "])"
   ],
   "metadata": {
    "collapsed": false
   },
   "id": "be1b286bb589307d"
  },
  {
   "cell_type": "code",
   "execution_count": null,
   "outputs": [],
   "source": [
    "pickedCityData = []\n",
    "\n",
    "for i, pickedCity in enumerate([max_age_avg_city, min_age_avg_city, max_women_share_city, max_men_share_city]):\n",
    "    pickedCityData.append([])\n",
    "    pickedCityData[i].extend([\n",
    "        pickedCity.city_name,\n",
    "        pickedCity.city_id,\n",
    "    ])"
   ],
   "metadata": {
    "collapsed": false
   },
   "id": "b560998b3b303855"
  },
  {
   "cell_type": "code",
   "execution_count": null,
   "outputs": [],
   "source": [
    "pickedCityData"
   ],
   "metadata": {
    "collapsed": false
   },
   "id": "15b9a9ff3de13c12"
  },
  {
   "cell_type": "code",
   "execution_count": null,
   "outputs": [],
   "source": [
    "pickedCityDF = spark.createDataFrame(pickedCityData, schema=pickedCityDFSchema)\n",
    "pickedCityDF.show()"
   ],
   "metadata": {
    "collapsed": false
   },
   "id": "40924cb8f4b39fd6"
  },
  {
   "cell_type": "markdown",
   "source": [
    "#### find max and min price products for picked cities"
   ],
   "metadata": {
    "collapsed": false
   },
   "id": "f4303efd81de676a"
  },
  {
   "cell_type": "code",
   "execution_count": null,
   "outputs": [],
   "source": [
    "# find priceDF's rows with max_age_avg, min_age_avg, max_women_share and max_men_share cities\n",
    "pickedPriceDF = (\n",
    "    priceDF\n",
    "    .join(pickedCityDF, \"city_id\", how='inner')\n",
    "    .select(\n",
    "        sf.col(\"product_id\"),\n",
    "        sf.col(\"price\"),\n",
    "        sf.col(\"city_name\")\n",
    "    )\n",
    ")\n",
    "\n",
    "pickedPriceDF.show(n=10)"
   ],
   "metadata": {
    "collapsed": false
   },
   "id": "fae094cee3f98125"
  },
  {
   "cell_type": "code",
   "execution_count": null,
   "outputs": [],
   "source": [
    "minPriceProductDF = (\n",
    "    pickedPriceDF\n",
    "    .groupBy(sf.col(\"city_name\"))\n",
    "    .agg(\n",
    "        sf.min(\"price\").alias(\"price\"),\n",
    "    )\n",
    ")\n",
    "\n",
    "print(\"aggregation result:\")\n",
    "minPriceProductDF.show()\n",
    "\n",
    "minPriceProductDF = (\n",
    "    minPriceProductDF\n",
    "    .join(pickedPriceDF, \"price\", how=\"inner\") # obtain products' id\n",
    "    .join(productDF, \"product_id\", how=\"inner\")  # obtain name of products\n",
    "    .select(\n",
    "        minPriceProductDF.city_name,\n",
    "        sf.col(\"price\").alias(\"cheapest_product_price\"),\n",
    "        sf.col(\"product\").alias(\"cheapest_product_name\"),\n",
    "    )\n",
    ")\n",
    "\n",
    "print(\"final result:\")\n",
    "minPriceProductDF.show()"
   ],
   "metadata": {
    "collapsed": false
   },
   "id": "fa5f700b27a78051"
  },
  {
   "cell_type": "code",
   "execution_count": null,
   "outputs": [],
   "source": [
    "maxPriceProductDF = (\n",
    "    pickedPriceDF\n",
    "    .groupBy(sf.col(\"city_name\"))\n",
    "    .agg(\n",
    "        sf.max(\"price\").alias(\"price\"),\n",
    "    )\n",
    ")\n",
    "\n",
    "maxPriceProductDF = (\n",
    "    maxPriceProductDF\n",
    "    .join(pickedPriceDF, \"price\", how=\"inner\") # obtain products' id\n",
    "    .join(productDF, \"product_id\", how=\"inner\")  # obtain name of products\n",
    "    .select(\n",
    "        maxPriceProductDF.city_name,\n",
    "        sf.col(\"price\").alias(\"most_expensive_product_price\"),\n",
    "        sf.col(\"product\").alias(\"most_expensive_product_name\"),\n",
    "    )\n",
    ")\n",
    "\n",
    "maxPriceProductDF.show()"
   ],
   "metadata": {
    "collapsed": false
   },
   "id": "6cdf045d45635311"
  },
  {
   "cell_type": "code",
   "execution_count": null,
   "outputs": [],
   "source": [
    "# convert DFs into necessary DF schema\n",
    "productStatDF = (\n",
    "    maxPriceProductDF\n",
    "    .join(minPriceProductDF, \"city_name\", how=\"inner\")\n",
    "    .withColumn(\"price_difference\", sf.round(sf.col(\"most_expensive_product_price\") - sf.col(\"cheapest_product_price\"), 2))\n",
    "    .select(\n",
    "        sf.col(\"city_name\"),\n",
    "        sf.col(\"cheapest_product_name\"),\n",
    "        sf.col(\"most_expensive_product_name\"),\n",
    "        sf.col(\"price_difference\"),\n",
    "    )\n",
    ")"
   ],
   "metadata": {
    "collapsed": false
   },
   "id": "bbbaee28ec0beaf9"
  },
  {
   "cell_type": "code",
   "execution_count": null,
   "outputs": [],
   "source": [
    "productStatDF.show()"
   ],
   "metadata": {
    "collapsed": false
   },
   "id": "f1e42c51dac09123"
  },
  {
   "cell_type": "code",
   "execution_count": null,
   "outputs": [],
   "source": [
    "(\n",
    "    productStatDF\n",
    "    .repartition(1)\n",
    "    .sortWithinPartitions(sf.col(\"city_name\").desc())\n",
    "    .write\n",
    "    .mode(\"overwrite\")\n",
    "    .option(\"header\", \"false\")\n",
    "    .option(\"sep\", \";\")\n",
    "    .csv(product_stat_path)\n",
    ")"
   ],
   "metadata": {
    "collapsed": false
   },
   "id": "291c0a996ce686df"
  },
  {
   "cell_type": "code",
   "execution_count": null,
   "outputs": [],
   "source": [
    "spark.stop()"
   ],
   "metadata": {
    "collapsed": false
   },
   "id": "a6710cbb332978fb"
  },
  {
   "cell_type": "code",
   "execution_count": null,
   "outputs": [],
   "source": [],
   "metadata": {
    "collapsed": false
   },
   "id": "aa2cda33c114e699"
  }
 ],
 "metadata": {
  "kernelspec": {
   "display_name": "Python 3",
   "language": "python",
   "name": "python3"
  },
  "language_info": {
   "codemirror_mode": {
    "name": "ipython",
    "version": 2
   },
   "file_extension": ".py",
   "mimetype": "text/x-python",
   "name": "python",
   "nbconvert_exporter": "python",
   "pygments_lexer": "ipython2",
   "version": "2.7.6"
  }
 },
 "nbformat": 4,
 "nbformat_minor": 5
}
